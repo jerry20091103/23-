{
 "cells": [
  {
   "cell_type": "code",
   "execution_count": null,
   "metadata": {},
   "outputs": [],
   "source": [
    "from pynq import Overlay\n",
    "from pynq import allocate"
   ]
  },
  {
   "cell_type": "code",
   "execution_count": 1,
   "metadata": {},
   "outputs": [],
   "source": [
    "import numpy as np\n",
    "from time import time\n",
    "import matplotlib.pyplot as plt "
   ]
  },
  {
   "cell_type": "code",
   "execution_count": 11,
   "metadata": {},
   "outputs": [
    {
     "name": "stdout",
     "output_type": "stream",
     "text": [
      "[ 1  2  3  4  5  6  7  8  9 10 11 12 13 14 15 16 17 18 19 20 21 22 23 24\n",
      " 25 26 27 28 29 30]\n",
      "[ 2  3  4  5  6  7  8  9 10 11 12 13 14 15 16 17 18 19 20 21 22 23 24 25\n",
      " 26 27 28 29 30 31]\n",
      "[ERROR]  result[  1][  1][  1][  1][  1] =   1, gold:   2, error: -50.00000%\n",
      "[ERROR]  result[  1][  1][  1][  1][  2] =   2, gold:   3, error: -33.33333%\n",
      "[ERROR]  result[  1][  1][  1][  1][  3] =   3, gold:   4, error: -25.00000%\n",
      "[ERROR]  result[  1][  1][  1][  1][  4] =   4, gold:   5, error: -20.00000%\n",
      "[ERROR]  result[  1][  1][  1][  1][  5] =   5, gold:   6, error: -16.66667%\n",
      "[ERROR]  result[  1][  1][  1][  2][  1] =   6, gold:   7, error: -14.28571%\n",
      "[ERROR]  result[  1][  1][  1][  2][  2] =   7, gold:   8, error: -12.50000%\n",
      "[ERROR]  result[  1][  1][  1][  2][  3] =   8, gold:   9, error: -11.11111%\n",
      "[ERROR]  result[  1][  1][  1][  2][  4] =   9, gold:  10, error: -10.00000%\n",
      "[ERROR]  result[  1][  1][  1][  2][  5] =  10, gold:  11, error: -9.09091%\n",
      "[ERROR]  result[  1][  1][  1][  3][  1] =  11, gold:  12, error: -8.33333%\n",
      "[ERROR]  result[  1][  1][  1][  3][  2] =  12, gold:  13, error: -7.69231%\n",
      "[ERROR]  result[  1][  1][  1][  3][  3] =  13, gold:  14, error: -7.14286%\n",
      "[ERROR]  result[  1][  1][  1][  3][  4] =  14, gold:  15, error: -6.66667%\n",
      "[ERROR]  result[  1][  1][  1][  3][  5] =  15, gold:  16, error: -6.25000%\n",
      "[ERROR]  result[  1][  1][  2][  1][  1] =  16, gold:  17, error: -5.88235%\n",
      "[ERROR]  result[  1][  1][  2][  1][  2] =  17, gold:  18, error: -5.55556%\n",
      "[ERROR]  result[  1][  1][  2][  1][  3] =  18, gold:  19, error: -5.26316%\n",
      "[ERROR]  result[  1][  1][  2][  1][  4] =  19, gold:  20, error: -5.00000%\n",
      "[ERROR]  result[  1][  1][  2][  1][  5] =  20, gold:  21, error: -4.76190%\n",
      "[ERROR]  result[  1][  1][  2][  2][  1] =  21, gold:  22, error: -4.54545%\n",
      "[ERROR]  result[  1][  1][  2][  2][  2] =  22, gold:  23, error: -4.34783%\n",
      "[ERROR]  result[  1][  1][  2][  2][  3] =  23, gold:  24, error: -4.16667%\n",
      "[ERROR]  result[  1][  1][  2][  2][  4] =  24, gold:  25, error: -4.00000%\n",
      "[ERROR]  result[  1][  1][  2][  2][  5] =  25, gold:  26, error: -3.84615%\n",
      "[ERROR]  result[  1][  1][  2][  3][  1] =  26, gold:  27, error: -3.70370%\n",
      "[ERROR]  result[  1][  1][  2][  3][  2] =  27, gold:  28, error: -3.57143%\n",
      "[ERROR]  result[  1][  1][  2][  3][  3] =  28, gold:  29, error: -3.44828%\n",
      "[ERROR]  result[  1][  1][  2][  3][  4] =  29, gold:  30, error: -3.33333%\n",
      "[ERROR]  result[  1][  1][  2][  3][  5] =  30, gold:  31, error: -3.22581%\n",
      "error =  30\n"
     ]
    }
   ],
   "source": [
    "# validate data\n",
    "def Validate(ourOutput, golden, size):\n",
    "    errors = 0\n",
    "    N, C, D, H, W = size[0], size[1], size[2], size[3], size[4]\n",
    "    for n in range(N):\n",
    "        for c in range(C):\n",
    "            for d in range(D):\n",
    "                for h in range(H):\n",
    "                    for w in range(W):\n",
    "                        pos = n * C*D*H*W + c * D*H*W + d * H*W + h * W + w\n",
    "                        if ourOutput[pos] != golden[pos]:\n",
    "                            print(f'[ERROR]  result[{n+1:3.0f}][{c+1:3.0f}][{d+1:3.0f}][{h+1:3.0f}][{w+1:3.0f}] = {ourOutput[pos]:3.0f}, gold: {golden[pos]:3.0f}, error: {100*(ourOutput[pos] - golden[pos]) / golden[pos]:3.5f}%')\n",
    "                            errors += 1\n",
    "    return errors\n",
    "\n",
    "def Validate_file(ourOutput, golden, size, fp):\n",
    "    errors = 0\n",
    "    N, C, D, H, W = size[0], size[1], size[2], size[3], size[4]\n",
    "    for n in range(N):\n",
    "        for c in range(C):\n",
    "            for d in range(D):\n",
    "                for h in range(H):\n",
    "                    for w in range(W):\n",
    "                        pos = n * C*D*H*W + c * D*H*W + d * H*W + h * W + w\n",
    "                        if ourOutput[pos] != golden[pos]:\n",
    "                            print(f'[ERROR]  result[{n+1:3.0f}][{c+1:3.0f}][{d+1:3.0f}][{h+1:3.0f}][{w+1:3.0f}] = {ourOutput[pos]:3.0f}, gold: {golden[pos]:3.0f}, error: {100*(ourOutput[pos] - golden[pos]) / golden[pos]:3.5f}%', file=fp)\n",
    "                            errors += 1\n",
    "    return errors\n",
    "\n",
    "\n",
    "# # for test\n",
    "# a = np.arange(1, 31, 1)\n",
    "# print(a)\n",
    "# golden = np.arange(2, 32, 1)\n",
    "# print(golden)\n",
    "# size = [1, 1, 2, 3, 5]\n",
    "\n",
    "# error = Validate(a, golden, size)\n",
    "# print(\"error = \", error)\n",
    "\n",
    "# fp = open(\"result.txt\", \"w\")\n",
    "# error = Validate_file(a, golden, size, fp)\n",
    "# fp.close()"
   ]
  },
  {
   "cell_type": "code",
   "execution_count": null,
   "metadata": {},
   "outputs": [],
   "source": [
    "def LoadArr(filename, type):\n",
    "    \"\"\"\n",
    "    Load the data array from the file \"filename\" into a numpy array of type \"type\"\n",
    "    \"\"\"\n",
    "    with open(filename) as f:\n",
    "        data = []\n",
    "        line = f.readline()\n",
    "        num = 0\n",
    "        while line:\n",
    "            data.append(type(line))\n",
    "            num += 1\n",
    "            line = f.readline()\n",
    "    return np.array(data, dtype=type), num"
   ]
  },
  {
   "cell_type": "code",
   "execution_count": null,
   "metadata": {},
   "outputs": [],
   "source": [
    "# allocate data\n",
    "print(\"qq\")"
   ]
  },
  {
   "cell_type": "code",
   "execution_count": null,
   "metadata": {},
   "outputs": [],
   "source": [
    "# load data\n",
    "# Ouq"
   ]
  },
  {
   "cell_type": "code",
   "execution_count": null,
   "metadata": {},
   "outputs": [],
   "source": [
    "# run the model\n",
    "# print(\"start running the model\")"
   ]
  },
  {
   "cell_type": "code",
   "execution_count": null,
   "metadata": {},
   "outputs": [],
   "source": [
    "# validate the result"
   ]
  }
 ],
 "metadata": {
  "kernelspec": {
   "display_name": "Python 3.10.4 64-bit",
   "language": "python",
   "name": "python3"
  },
  "language_info": {
   "codemirror_mode": {
    "name": "ipython",
    "version": 3
   },
   "file_extension": ".py",
   "mimetype": "text/x-python",
   "name": "python",
   "nbconvert_exporter": "python",
   "pygments_lexer": "ipython3",
   "version": "3.10.4"
  },
  "orig_nbformat": 4,
  "vscode": {
   "interpreter": {
    "hash": "8c3d4d9970fc5c09c50d9318a9c7fbf4d0159e4b28833276f5678ee22bded273"
   }
  }
 },
 "nbformat": 4,
 "nbformat_minor": 2
}
