{
 "cells": [
  {
   "cell_type": "code",
   "execution_count": null,
   "metadata": {},
   "outputs": [],
   "source": [
    "from pynq import Overlay\n",
    "from pynq import allocate"
   ]
  },
  {
   "cell_type": "code",
   "execution_count": null,
   "metadata": {},
   "outputs": [],
   "source": [
    "import numpy as np\n",
    "from time import time\n",
    "import matplotlib.pyplot as plt "
   ]
  },
  {
   "cell_type": "code",
   "execution_count": null,
   "metadata": {},
   "outputs": [],
   "source": [
    "# validate data\n",
    "def Validate(ourOutput, golden, size):\n",
    "    errors = 0\n",
    "    N, C, D, H, W = size[0], size[1], size[2], size[3], size[4]\n",
    "    for n in range(N):\n",
    "        for c in range(C):\n",
    "            for d in range(D):\n",
    "                for h in range(H):\n",
    "                    for w in range(W):\n",
    "                        pos = n * C*D*H*W + c * D*H*W + d * H*W + h * W + w\n",
    "                        if ourOutput[pos] != golden[pos]:\n",
    "                            print(f'[ERROR]  result[{n+1:3.0f}][{c+1:3.0f}][{d+1:3.0f}][{h+1:3.0f}][{w+1:3.0f}] = {ourOutput[pos]:3.0f}, gold: {golden[pos]:3.0f}, error: {100*(int(ourOutput[pos]) - int(golden[pos])) / int(golden[pos]):3.5f}%')\n",
    "                            errors += 1\n",
    "    return errors\n",
    "\n",
    "def Validate_file(ourOutput, golden, size, fp):\n",
    "    errors = 0\n",
    "    N, C, D, H, W = size[0], size[1], size[2], size[3], size[4]\n",
    "    for n in range(N):\n",
    "        for c in range(C):\n",
    "            for d in range(D):\n",
    "                for h in range(H):\n",
    "                    for w in range(W):\n",
    "                        pos = n * C*D*H*W + c * D*H*W + d * H*W + h * W + w\n",
    "                        if ourOutput[pos] != golden[pos]:\n",
    "                            print(f'[ERROR]  result[{n+1:3.0f}][{c+1:3.0f}][{d+1:3.0f}][{h+1:3.0f}][{w+1:3.0f}] = {ourOutput[pos]:3.0f}, gold: {golden[pos]:3.0f}, error: {100*(int(ourOutput[pos]) - int(golden[pos])) / int(golden[pos]):3.5f}%', file=fp)\n",
    "                            errors += 1\n",
    "    return errors\n"
   ]
  },
  {
   "cell_type": "code",
   "execution_count": null,
   "metadata": {},
   "outputs": [],
   "source": [
    "def CountArr(filename):\n",
    "    \"\"\"\n",
    "    Count the number of data in the file \"filename\"\n",
    "    \"\"\"\n",
    "    with open(filename) as f:\n",
    "        num = 0\n",
    "        line = f.readline()\n",
    "        while line:\n",
    "            num += 1\n",
    "            line = f.readline()\n",
    "    return num\n",
    "\n",
    "def LoadArr(filename, type):\n",
    "    \"\"\"\n",
    "    Load the data array from the file \"filename\" into a PL numpy array of type \"type\"\n",
    "    \"\"\"\n",
    "    num = CountArr(filename)\n",
    "    arr = allocate(shape=(num,), dtype=type)\n",
    "    with open(filename) as f:\n",
    "        line = f.readline()\n",
    "        num = 0\n",
    "        while line:\n",
    "            arr[num] = type(np.float32(line))\n",
    "            num += 1\n",
    "            line = f.readline()\n",
    "    return arr\n",
    "\n",
    "def LoadNpArr(filename, type):\n",
    "    \"\"\"\n",
    "    Load the data array from the file \"filename\" into a PL numpy array of type \"type\"\n",
    "    \"\"\"\n",
    "    num = CountArr(filename)\n",
    "    arr = []\n",
    "    with open(filename) as f:\n",
    "        line = f.readline()\n",
    "        num = 0\n",
    "        while line:\n",
    "            arr = arr.append(type(np.float32(line)))\n",
    "            num += 1\n",
    "            line = f.readline()\n",
    "    return np.array(arr, dtype=type)"
   ]
  },
  {
   "cell_type": "code",
   "execution_count": null,
   "metadata": {},
   "outputs": [],
   "source": [
    "my_input = LoadArr('layer4.1.conv1.0.0.weight.dat', np.int8)\n",
    "output = allocate(shape=(5308416,), dtype=np.int8)"
   ]
  },
  {
   "cell_type": "code",
   "execution_count": null,
   "metadata": {},
   "outputs": [],
   "source": [
    "# run the model\n",
    "# load ip\n",
    "ol = Overlay(\"./bitstreams/r2plus1d_io_v3.bit\")\n",
    "ip_r2plus1d = ol.r2plus1d_0\n",
    "\n",
    "# write input address\n",
    "ip_r2plus1d.write(0x10, my_input.device_address)\n",
    "# write output address\n",
    "ip_r2plus1d.write(0x1C, output.device_address)"
   ]
  },
  {
   "cell_type": "code",
   "execution_count": null,
   "metadata": {},
   "outputs": [],
   "source": [
    "# start computation\n",
    "# start the computation for hls hardware\n",
    "timeKernelStart = time()\n",
    "ip_r2plus1d.write(0x00, 0x01)\n",
    "# wait for the computation to finish\n",
    "while (ip_r2plus1d.read(0x00) & 0x4) == 0x0:\n",
    "    continue\n",
    "timeKernelEnd = time()\n",
    "print(\"hardware execution time: \" + str(timeKernelEnd - timeKernelStart) + \" s\")"
   ]
  },
  {
   "cell_type": "code",
   "execution_count": null,
   "metadata": {},
   "outputs": [],
   "source": [
    "# validate the result\n",
    "errors = Validate(output, my_input, [1, 5308416, 1, 1, 1])\n",
    "if errors:\n",
    "    print(\"[FAIL] There are some errors QQ, error rate: \", errors / 5308416 * 100, \"%\")\n",
    "else:\n",
    "    print(\"[PASS] Congratulation! All results are correct\")"
   ]
  }
 ],
 "metadata": {
  "language_info": {
   "name": "python"
  },
  "orig_nbformat": 4
 },
 "nbformat": 4,
 "nbformat_minor": 2
}
