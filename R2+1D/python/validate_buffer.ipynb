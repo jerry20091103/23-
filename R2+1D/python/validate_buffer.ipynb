{
 "cells": [
  {
   "cell_type": "code",
   "execution_count": 3,
   "metadata": {},
   "outputs": [],
   "source": [
    "import numpy as np"
   ]
  },
  {
   "cell_type": "code",
   "execution_count": 4,
   "metadata": {},
   "outputs": [],
   "source": [
    "def Validate_file(ourOutput, golden, size, fp):\n",
    "    errors = 0\n",
    "    N, C, D, H, W = size[0], size[1], size[2], size[3], size[4]\n",
    "    for n in range(N):\n",
    "        for c in range(C):\n",
    "            for d in range(D):\n",
    "                for h in range(H):\n",
    "                    for w in range(W):\n",
    "                        pos = n * C*D*H*W + c * D*H*W + d * H*W + h * W + w\n",
    "                        if ourOutput[pos] != golden[pos]:\n",
    "                            print(f'[ERROR]  result[{n+1:3.0f}][{c+1:3.0f}][{d+1:3.0f}][{h+1:3.0f}][{w+1:3.0f}] = {ourOutput[pos]:3.0f}, gold: {golden[pos]:3.0f}, error: {100*(int(ourOutput[pos]) - int(golden[pos])) / int(golden[pos]):3.5f}%', file=fp)\n",
    "                            errors += 1\n",
    "    return errors\n",
    "\n",
    "def CountArr(filename):\n",
    "    \"\"\"\n",
    "    Count the number of data in the file \"filename\"\n",
    "    \"\"\"\n",
    "    with open(filename) as f:\n",
    "        num = 0\n",
    "        line = f.readline()\n",
    "        while line:\n",
    "            num += 1\n",
    "            line = f.readline()\n",
    "    return num\n",
    "\n",
    "def LoadNpArr(filename, type):\n",
    "    \"\"\"\n",
    "    Load the data array from the file \"filename\" into a PL numpy array of type \"type\"\n",
    "    \"\"\"\n",
    "    num = CountArr(filename)\n",
    "    arr = []\n",
    "    with open(filename) as f:\n",
    "        line = f.readline()\n",
    "        num = 0\n",
    "        while line:\n",
    "            arr.append(np.float32(line))\n",
    "            num += 1\n",
    "            line = f.readline()\n",
    "    return np.array(arr, dtype=type), num\n"
   ]
  },
  {
   "cell_type": "code",
   "execution_count": 9,
   "metadata": {},
   "outputs": [
    {
     "name": "stdout",
     "output_type": "stream",
     "text": [
      "2257920\n",
      "2257920\n",
      "2257920\n",
      "[PASS] All correct!\n"
     ]
    }
   ],
   "source": [
    "# stem.2 output\n",
    "\n",
    "bufferName = 'X_stem_1'\n",
    "size = [1, 45, 16, 56, 56]\n",
    "data, data_num = LoadNpArr(\"./middleData/\" + bufferName + \".txt\", np.uint8)\n",
    "golden, golden_num = LoadNpArr(\"./goldenData/\" + bufferName + \"_golden.dat\", np.uint8)\n",
    "\n",
    "print(data_num)\n",
    "print(golden_num)\n",
    "print(size[0] * size[1] * size[2] * size[3] * size[4])\n",
    "\n",
    "fp = open(\"results_\" + bufferName + \".txt\", \"w\")\n",
    "errors = Validate_file(data, golden, size, fp)\n",
    "fp.close()\n",
    "\n",
    "if errors:\n",
    "    print(\"[FAIL] There are some errors QQ, error rate: \", errors / (size[0] * size[1] * size[2] * size[3] * size[4]) * 100, \"%\")\n",
    "else:\n",
    "    print(\"[PASS] All correct!\")"
   ]
  },
  {
   "cell_type": "code",
   "execution_count": 10,
   "metadata": {},
   "outputs": [
    {
     "name": "stdout",
     "output_type": "stream",
     "text": [
      "7225344\n",
      "7225344\n",
      "7225344\n",
      "[FAIL] There are some errors QQ, error rate:  1.3840171485260772e-05 %\n"
     ]
    }
   ],
   "source": [
    "# layer1.1.conv2.0.2 output\n",
    "\n",
    "bufferName = 'X_mid_data'\n",
    "size = [1, 1, 1, 1, 7225344]\n",
    "data, data_num = LoadNpArr(\"./middleData/\" + bufferName + \".txt\", np.uint8)\n",
    "golden, golden_num = LoadNpArr(\"./goldenData/\" + bufferName + \"_golden.dat\", np.uint8)\n",
    "\n",
    "print(data_num)\n",
    "print(golden_num)\n",
    "print(size[0] * size[1] * size[2] * size[3] * size[4])\n",
    "\n",
    "fp = open(\"results_\" + bufferName + \".txt\", \"w\")\n",
    "errors = Validate_file(data, golden, size, fp)\n",
    "fp.close()\n",
    "\n",
    "if errors:\n",
    "    print(\"[FAIL] There are some errors QQ, error rate: \", errors / (size[0] * size[1] * size[2] * size[3] * size[4]) * 100, \"%\")\n",
    "else:\n",
    "    print(\"[PASS] All correct!\")"
   ]
  },
  {
   "cell_type": "code",
   "execution_count": 11,
   "metadata": {},
   "outputs": [
    {
     "name": "stdout",
     "output_type": "stream",
     "text": [
      "7225344\n",
      "3211264\n",
      "3211264\n",
      "[FAIL] There are some errors QQ, error rate:  14.119206642617984 %\n"
     ]
    }
   ],
   "source": [
    "# layer1.1.relu input\n",
    "\n",
    "bufferName = 'X_batch_data'\n",
    "size = [1, 64, 16, 56, 56]\n",
    "data, data_num = LoadNpArr(\"./middleData/\" + bufferName + \".txt\", np.uint8)\n",
    "golden, golden_num = LoadNpArr(\"./goldenData/\" + bufferName + \"_golden.dat\", np.uint8)\n",
    "\n",
    "print(data_num)\n",
    "print(golden_num)\n",
    "print(size[0] * size[1] * size[2] * size[3] * size[4])\n",
    "\n",
    "fp = open(\"results_\" + bufferName + \".txt\", \"w\")\n",
    "errors = Validate_file(data, golden, size, fp)\n",
    "fp.close()\n",
    "\n",
    "if errors:\n",
    "    print(\"[FAIL] There are some errors QQ, error rate: \", errors / (size[0] * size[1] * size[2] * size[3] * size[4]) * 100, \"%\")\n",
    "else:\n",
    "    print(\"[PASS] All correct!\")"
   ]
  },
  {
   "cell_type": "code",
   "execution_count": 13,
   "metadata": {},
   "outputs": [
    {
     "name": "stdout",
     "output_type": "stream",
     "text": [
      "3211264\n",
      "3211264\n",
      "3211264\n",
      "3211264\n",
      "[FAIL] There are some errors QQ, error rate:  0.00012456154336734694 %\n"
     ]
    }
   ],
   "source": [
    "# layer1 output\n",
    "\n",
    "bufferName = 'X_stem_2'\n",
    "bufferName2 = 'X_tmp_data'\n",
    "size = [1, 64, 16, 56, 56]\n",
    "data, data_num = LoadNpArr(\"./middleData/\" + bufferName + \".txt\", np.uint8)\n",
    "data2, data_num2 = LoadNpArr(\"./middleData/\" + bufferName2 + \".txt\", np.uint8)\n",
    "golden, golden_num = LoadNpArr(\"./goldenData/\" + bufferName + \"_golden.dat\", np.uint8)\n",
    "\n",
    "print(data_num)\n",
    "print(data_num2)\n",
    "print(golden_num)\n",
    "print(size[0] * size[1] * size[2] * size[3] * size[4])\n",
    "\n",
    "fp = open(\"results_check.txt\", \"w\")\n",
    "errors = Validate_file(data, data2, size, fp)\n",
    "fp.close()\n",
    "if (errors):\n",
    "    print(\"something wrong\")\n",
    "\n",
    "fp = open(\"results_\" + bufferName + \".txt\", \"w\")\n",
    "errors = Validate_file(data, golden, size, fp)\n",
    "fp.close()\n",
    "\n",
    "if errors:\n",
    "    print(\"[FAIL] There are some errors QQ, error rate: \", errors / (size[0] * size[1] * size[2] * size[3] * size[4]) * 100, \"%\")\n",
    "else:\n",
    "    print(\"[PASS] All correct!\")"
   ]
  },
  {
   "cell_type": "code",
   "execution_count": 15,
   "metadata": {},
   "outputs": [
    {
     "name": "stdout",
     "output_type": "stream",
     "text": [
      "2885120\n",
      "1806336\n",
      "1806336\n",
      "[FAIL] There are some errors QQ, error rate:  0.14797911352040816 %\n"
     ]
    }
   ],
   "source": [
    "# layer2.1.conv2.0.2 output\n",
    "\n",
    "bufferName = 'X2_mid_data'\n",
    "size = [1, 1, 1, 1, 1806336]\n",
    "data, data_num = LoadNpArr(\"./middleData/\" + bufferName + \".txt\", np.uint8)\n",
    "golden, golden_num = LoadNpArr(\"./goldenData/\" + bufferName + \"_golden.dat\", np.uint8)\n",
    "\n",
    "print(data_num)\n",
    "print(golden_num)\n",
    "print(size[0] * size[1] * size[2] * size[3] * size[4])\n",
    "\n",
    "fp = open(\"results_\" + bufferName + \".txt\", \"w\")\n",
    "errors = Validate_file(data, golden, size, fp)\n",
    "fp.close()\n",
    "\n",
    "if errors:\n",
    "    print(\"[FAIL] There are some errors QQ, error rate: \", errors / (size[0] * size[1] * size[2] * size[3] * size[4]) * 100, \"%\")\n",
    "else:\n",
    "    print(\"[PASS] All correct!\")"
   ]
  },
  {
   "cell_type": "code",
   "execution_count": 16,
   "metadata": {},
   "outputs": [
    {
     "name": "stdout",
     "output_type": "stream",
     "text": [
      "2885120\n",
      "802816\n",
      "802816\n",
      "[FAIL] There are some errors QQ, error rate:  36.898367745535715 %\n"
     ]
    }
   ],
   "source": [
    "# layer2.1.relu input\n",
    "\n",
    "bufferName = 'X2_batch_data'\n",
    "size = [1, 128, 8, 28, 28]\n",
    "data, data_num = LoadNpArr(\"./middleData/\" + bufferName + \".txt\", np.uint8)\n",
    "golden, golden_num = LoadNpArr(\"./goldenData/\" + bufferName + \"_golden.dat\", np.uint8)\n",
    "\n",
    "print(data_num)\n",
    "print(golden_num)\n",
    "print(size[0] * size[1] * size[2] * size[3] * size[4])\n",
    "\n",
    "fp = open(\"results_\" + bufferName + \".txt\", \"w\")\n",
    "errors = Validate_file(data, golden, size, fp)\n",
    "fp.close()\n",
    "\n",
    "if errors:\n",
    "    print(\"[FAIL] There are some errors QQ, error rate: \", errors / (size[0] * size[1] * size[2] * size[3] * size[4]) * 100, \"%\")\n",
    "else:\n",
    "    print(\"[PASS] All correct!\")"
   ]
  },
  {
   "cell_type": "code",
   "execution_count": 22,
   "metadata": {},
   "outputs": [
    {
     "name": "stdout",
     "output_type": "stream",
     "text": [
      "802816\n",
      "802816\n",
      "802816\n",
      "802816\n",
      "[FAIL] There are some errors QQ, error rate:  0.6266691246811225 %\n"
     ]
    }
   ],
   "source": [
    "# layer2 output\n",
    "\n",
    "bufferName = 'X2_data'\n",
    "bufferName2 = 'X2_tmp_data'\n",
    "size = [1, 128, 8, 28, 28]\n",
    "data, data_num = LoadNpArr(\"./middleData/\" + bufferName + \".txt\", np.uint8)\n",
    "data2, data_num2 = LoadNpArr(\"./middleData/\" + bufferName2 + \".txt\", np.uint8)\n",
    "golden, golden_num = LoadNpArr(\"./goldenData/\" + bufferName + \"_golden.dat\", np.uint8)\n",
    "\n",
    "print(data_num)\n",
    "print(data_num2)\n",
    "print(golden_num)\n",
    "print(size[0] * size[1] * size[2] * size[3] * size[4])\n",
    "\n",
    "fp = open(\"results_check.txt\", \"w\")\n",
    "errors = Validate_file(data, data2, size, fp)\n",
    "fp.close()\n",
    "if (errors):\n",
    "    print(\"something wrong\")\n",
    "\n",
    "fp = open(\"results_\" + bufferName + \".txt\", \"w\")\n",
    "errors = Validate_file(data, golden, size, fp)\n",
    "fp.close()\n",
    "\n",
    "if errors:\n",
    "    print(\"[FAIL] There are some errors QQ, error rate: \", errors / (size[0] * size[1] * size[2] * size[3] * size[4]) * 100, \"%\")\n",
    "else:\n",
    "    print(\"[PASS] All correct!\")"
   ]
  },
  {
   "cell_type": "code",
   "execution_count": 24,
   "metadata": {},
   "outputs": [
    {
     "name": "stdout",
     "output_type": "stream",
     "text": [
      "721280\n",
      "451584\n",
      "451584\n",
      "[FAIL] There are some errors QQ, error rate:  1.0077859268707483 %\n"
     ]
    }
   ],
   "source": [
    "# layer3.1.conv2.0.2 output\n",
    "\n",
    "bufferName = 'X3_mid_data'\n",
    "size = [1, 1, 1, 1, 451584]\n",
    "data, data_num = LoadNpArr(\"./middleData/\" + bufferName + \".txt\", np.uint8)\n",
    "golden, golden_num = LoadNpArr(\"./goldenData/\" + bufferName + \"_golden.dat\", np.uint8)\n",
    "\n",
    "print(data_num)\n",
    "print(golden_num)\n",
    "print(size[0] * size[1] * size[2] * size[3] * size[4])\n",
    "\n",
    "fp = open(\"results_\" + bufferName + \".txt\", \"w\")\n",
    "errors = Validate_file(data, golden, size, fp)\n",
    "fp.close()\n",
    "\n",
    "if errors:\n",
    "    print(\"[FAIL] There are some errors QQ, error rate: \", errors / (size[0] * size[1] * size[2] * size[3] * size[4]) * 100, \"%\")\n",
    "else:\n",
    "    print(\"[PASS] All correct!\")"
   ]
  },
  {
   "cell_type": "code",
   "execution_count": 26,
   "metadata": {},
   "outputs": [
    {
     "name": "stdout",
     "output_type": "stream",
     "text": [
      "721280\n",
      "200704\n",
      "200704\n",
      "[FAIL] There are some errors QQ, error rate:  52.53956074617348 %\n"
     ]
    }
   ],
   "source": [
    "# layer3.1.relu input\n",
    "\n",
    "bufferName = 'X3_batch_data'\n",
    "size = [1, 256, 4, 14, 14]\n",
    "data, data_num = LoadNpArr(\"./middleData/\" + bufferName + \".txt\", np.uint8)\n",
    "golden, golden_num = LoadNpArr(\"./goldenData/\" + bufferName + \"_golden.dat\", np.uint8)\n",
    "\n",
    "print(data_num)\n",
    "print(golden_num)\n",
    "print(size[0] * size[1] * size[2] * size[3] * size[4])\n",
    "\n",
    "fp = open(\"results_\" + bufferName + \".txt\", \"w\")\n",
    "errors = Validate_file(data, golden, size, fp)\n",
    "fp.close()\n",
    "\n",
    "if errors:\n",
    "    print(\"[FAIL] There are some errors QQ, error rate: \", errors / (size[0] * size[1] * size[2] * size[3] * size[4]) * 100, \"%\")\n",
    "else:\n",
    "    print(\"[PASS] All correct!\")"
   ]
  },
  {
   "cell_type": "code",
   "execution_count": 38,
   "metadata": {},
   "outputs": [
    {
     "name": "stdout",
     "output_type": "stream",
     "text": [
      "200704\n",
      "200704\n",
      "200704\n",
      "200704\n",
      "[FAIL] There are some errors QQ, error rate:  3.8409797512755106 %\n"
     ]
    }
   ],
   "source": [
    "# layer3 output\n",
    "\n",
    "bufferName = 'X3_data'\n",
    "bufferName2 = 'X3_tmp_data'\n",
    "size = [1, 256, 4, 14, 14]\n",
    "data, data_num = LoadNpArr(\"./middleData/\" + bufferName + \".txt\", np.uint8)\n",
    "data2, data_num2 = LoadNpArr(\"./middleData/\" + bufferName2 + \".txt\", np.uint8)\n",
    "golden, golden_num = LoadNpArr(\"./goldenData/\" + bufferName + \"_golden.dat\", np.uint8)\n",
    "\n",
    "print(data_num)\n",
    "print(data_num2)\n",
    "print(golden_num)\n",
    "print(size[0] * size[1] * size[2] * size[3] * size[4])\n",
    "\n",
    "fp = open(\"results_check.txt\", \"w\")\n",
    "errors = Validate_file(data, data2, size, fp)\n",
    "fp.close()\n",
    "if (errors):\n",
    "    print(\"something wrong\")\n",
    "\n",
    "fp = open(\"results_\" + bufferName + \".txt\", \"w\")\n",
    "errors = Validate_file(data, golden, size, fp)\n",
    "fp.close()\n",
    "\n",
    "if errors:\n",
    "    print(\"[FAIL] There are some errors QQ, error rate: \", errors / (size[0] * size[1] * size[2] * size[3] * size[4]) * 100, \"%\")\n",
    "else:\n",
    "    print(\"[PASS] All correct!\")"
   ]
  },
  {
   "cell_type": "code",
   "execution_count": 39,
   "metadata": {},
   "outputs": [
    {
     "name": "stdout",
     "output_type": "stream",
     "text": [
      "50176\n",
      "50176\n",
      "50176\n",
      "[FAIL] There are some errors QQ, error rate:  51.947146045918366 %\n"
     ]
    }
   ],
   "source": [
    "# layer4.0.relu output\n",
    "\n",
    "bufferName = 'X4_tmp_data'\n",
    "size = [1, 512, 2, 7, 7]\n",
    "data, data_num = LoadNpArr(\"./middleData/\" + bufferName + \".txt\", np.uint8)\n",
    "golden, golden_num = LoadNpArr(\"./goldenData/\" + bufferName + \"_golden.dat\", np.uint8)\n",
    "\n",
    "print(data_num)\n",
    "print(golden_num)\n",
    "print(size[0] * size[1] * size[2] * size[3] * size[4])\n",
    "\n",
    "fp = open(\"results_\" + bufferName + \".txt\", \"w\")\n",
    "errors = Validate_file(data, golden, size, fp)\n",
    "fp.close()\n",
    "\n",
    "if errors:\n",
    "    print(\"[FAIL] There are some errors QQ, error rate: \", errors / (size[0] * size[1] * size[2] * size[3] * size[4]) * 100, \"%\")\n",
    "else:\n",
    "    print(\"[PASS] All correct!\")"
   ]
  },
  {
   "cell_type": "code",
   "execution_count": 41,
   "metadata": {},
   "outputs": [
    {
     "name": "stdout",
     "output_type": "stream",
     "text": [
      "180516\n",
      "112896\n",
      "112896\n",
      "[FAIL] There are some errors QQ, error rate:  100.0 %\n"
     ]
    }
   ],
   "source": [
    "# layer4.1.conv2.0.2 output\n",
    "\n",
    "bufferName = 'X4_mid_data'\n",
    "size = [1, 1, 1, 1, 112896]\n",
    "data, data_num = LoadNpArr(\"./middleData/\" + bufferName + \".txt\", np.uint8)\n",
    "golden, golden_num = LoadNpArr(\"./goldenData/\" + bufferName + \"_golden.dat\", np.uint8)\n",
    "\n",
    "print(data_num)\n",
    "print(golden_num)\n",
    "print(size[0] * size[1] * size[2] * size[3] * size[4])\n",
    "\n",
    "fp = open(\"results_\" + bufferName + \".txt\", \"w\")\n",
    "errors = Validate_file(data, golden, size, fp)\n",
    "fp.close()\n",
    "\n",
    "if errors:\n",
    "    print(\"[FAIL] There are some errors QQ, error rate: \", errors / (size[0] * size[1] * size[2] * size[3] * size[4]) * 100, \"%\")\n",
    "else:\n",
    "    print(\"[PASS] All correct!\")"
   ]
  },
  {
   "cell_type": "code",
   "execution_count": 42,
   "metadata": {},
   "outputs": [
    {
     "name": "stdout",
     "output_type": "stream",
     "text": [
      "180516\n",
      "50176\n",
      "50176\n",
      "[FAIL] There are some errors QQ, error rate:  99.83657525510205 %\n"
     ]
    }
   ],
   "source": [
    "# layer4.1.relu input\n",
    "\n",
    "bufferName = 'X4_batch_data'\n",
    "size = [1, 512, 2, 7, 7]\n",
    "data, data_num = LoadNpArr(\"./middleData/\" + bufferName + \".txt\", np.uint8)\n",
    "golden, golden_num = LoadNpArr(\"./goldenData/\" + bufferName + \"_golden.dat\", np.uint8)\n",
    "\n",
    "print(data_num)\n",
    "print(golden_num)\n",
    "print(size[0] * size[1] * size[2] * size[3] * size[4])\n",
    "\n",
    "fp = open(\"results_\" + bufferName + \".txt\", \"w\")\n",
    "errors = Validate_file(data, golden, size, fp)\n",
    "fp.close()\n",
    "\n",
    "if errors:\n",
    "    print(\"[FAIL] There are some errors QQ, error rate: \", errors / (size[0] * size[1] * size[2] * size[3] * size[4]) * 100, \"%\")\n",
    "else:\n",
    "    print(\"[PASS] All correct!\")"
   ]
  },
  {
   "cell_type": "code",
   "execution_count": 43,
   "metadata": {},
   "outputs": [
    {
     "name": "stdout",
     "output_type": "stream",
     "text": [
      "50176\n",
      "50176\n",
      "50176\n",
      "[FAIL] There are some errors QQ, error rate:  77.24410076530613 %\n"
     ]
    }
   ],
   "source": [
    "# layer4 output    \n",
    "\n",
    "bufferName = 'X_seq'\n",
    "size = [1, 512, 2, 7, 7]\n",
    "data, data_num = LoadNpArr(\"./middleData/\" + bufferName + \".txt\", np.uint8)\n",
    "golden, golden_num = LoadNpArr(\"./goldenData/\" + bufferName + \"_golden.dat\", np.uint8)\n",
    "\n",
    "print(data_num)\n",
    "print(golden_num)\n",
    "print(size[0] * size[1] * size[2] * size[3] * size[4])\n",
    "\n",
    "fp = open(\"results_\" + bufferName + \".txt\", \"w\")\n",
    "errors = Validate_file(data, golden, size, fp)\n",
    "fp.close()\n",
    "\n",
    "if errors:\n",
    "    print(\"[FAIL] There are some errors QQ, error rate: \", errors / (size[0] * size[1] * size[2] * size[3] * size[4]) * 100, \"%\")\n",
    "else:\n",
    "    print(\"[PASS] All correct!\")"
   ]
  },
  {
   "cell_type": "code",
   "execution_count": 44,
   "metadata": {},
   "outputs": [
    {
     "name": "stdout",
     "output_type": "stream",
     "text": [
      "512\n",
      "512\n",
      "512\n",
      "[FAIL] There are some errors QQ, error rate:  95.8984375 %\n"
     ]
    }
   ],
   "source": [
    "# avgpool output\n",
    "bufferName = 'X_adap'\n",
    "size = [1, 512, 1, 1, 1]\n",
    "data, data_num = LoadNpArr(\"./middleData/\" + bufferName + \".txt\", np.uint8)\n",
    "golden, golden_num = LoadNpArr(\"./goldenData/\" + bufferName + \"_golden.dat\", np.uint8)\n",
    "\n",
    "print(data_num)\n",
    "print(golden_num)\n",
    "print(size[0] * size[1] * size[2] * size[3] * size[4])\n",
    "\n",
    "fp = open(\"results_\" + bufferName + \".txt\", \"w\")\n",
    "errors = Validate_file(data, golden, size, fp)\n",
    "fp.close()\n",
    "\n",
    "if errors:\n",
    "    print(\"[FAIL] There are some errors QQ, error rate: \", errors / (size[0] * size[1] * size[2] * size[3] * size[4]) * 100, \"%\")\n",
    "else:\n",
    "    print(\"[PASS] All correct!\")"
   ]
  }
 ],
 "metadata": {
  "kernelspec": {
   "display_name": "Python 3 (ipykernel)",
   "language": "python",
   "name": "python3"
  },
  "language_info": {
   "codemirror_mode": {
    "name": "ipython",
    "version": 3
   },
   "file_extension": ".py",
   "mimetype": "text/x-python",
   "name": "python",
   "nbconvert_exporter": "python",
   "pygments_lexer": "ipython3",
   "version": "3.8.10"
  },
  "orig_nbformat": 4
 },
 "nbformat": 4,
 "nbformat_minor": 2
}
