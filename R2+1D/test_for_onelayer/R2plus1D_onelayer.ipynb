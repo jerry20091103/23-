{
 "cells": [
  {
   "cell_type": "code",
   "execution_count": 1,
   "id": "db6c16b3",
   "metadata": {},
   "outputs": [
    {
     "data": {
      "application/javascript": [
       "\n",
       "try {\n",
       "require(['notebook/js/codecell'], function(codecell) {\n",
       "  codecell.CodeCell.options_default.highlight_modes[\n",
       "      'magic_text/x-csrc'] = {'reg':[/^%%microblaze/]};\n",
       "  Jupyter.notebook.events.one('kernel_ready.Kernel', function(){\n",
       "      Jupyter.notebook.get_cells().map(function(cell){\n",
       "          if (cell.cell_type == 'code'){ cell.auto_highlight(); } }) ;\n",
       "  });\n",
       "});\n",
       "} catch (e) {};\n"
      ]
     },
     "metadata": {},
     "output_type": "display_data"
    },
    {
     "data": {
      "application/javascript": [
       "\n",
       "try {\n",
       "require(['notebook/js/codecell'], function(codecell) {\n",
       "  codecell.CodeCell.options_default.highlight_modes[\n",
       "      'magic_text/x-csrc'] = {'reg':[/^%%pybind11/]};\n",
       "  Jupyter.notebook.events.one('kernel_ready.Kernel', function(){\n",
       "      Jupyter.notebook.get_cells().map(function(cell){\n",
       "          if (cell.cell_type == 'code'){ cell.auto_highlight(); } }) ;\n",
       "  });\n",
       "});\n",
       "} catch (e) {};\n"
      ]
     },
     "metadata": {},
     "output_type": "display_data"
    },
    {
     "name": "stdout",
     "output_type": "stream",
     "text": [
      "IP loaded!\n"
     ]
    }
   ],
   "source": [
    "import numpy as np\n",
    "from time import time\n",
    "from pynq import Overlay\n",
    "from pynq import allocate\n",
    "\n",
    "if __name__ == \"__main__\":\n",
    "    ol = Overlay(\"/home/xilinx/jupyter_notebooks/R2plus1D_onelayer/test_onelayer.bit\")\n",
    "    ip_r2plus1d = ol.r2plus1d_0\n",
    "    \n",
    "    print(\"IP loaded!\")"
   ]
  },
  {
   "cell_type": "code",
   "execution_count": 2,
   "id": "f5610f34",
   "metadata": {},
   "outputs": [
    {
     "name": "stdout",
     "output_type": "stream",
     "text": [
      "inputNum: 36963\n",
      "kernel1Num: 6615\n",
      "kernel2Num: 8640\n",
      "loading input data...\n",
      "0 / 36963\n",
      "1000 / 36963\n",
      "2000 / 36963\n",
      "3000 / 36963\n",
      "4000 / 36963\n",
      "5000 / 36963\n",
      "6000 / 36963\n",
      "7000 / 36963\n",
      "8000 / 36963\n",
      "9000 / 36963\n",
      "10000 / 36963\n",
      "11000 / 36963\n",
      "12000 / 36963\n",
      "13000 / 36963\n",
      "14000 / 36963\n",
      "15000 / 36963\n",
      "16000 / 36963\n",
      "17000 / 36963\n",
      "18000 / 36963\n",
      "19000 / 36963\n",
      "20000 / 36963\n",
      "21000 / 36963\n",
      "22000 / 36963\n",
      "23000 / 36963\n",
      "24000 / 36963\n",
      "25000 / 36963\n",
      "26000 / 36963\n",
      "27000 / 36963\n",
      "28000 / 36963\n",
      "29000 / 36963\n",
      "30000 / 36963\n",
      "31000 / 36963\n",
      "32000 / 36963\n",
      "33000 / 36963\n",
      "34000 / 36963\n",
      "35000 / 36963\n",
      "36000 / 36963\n",
      "loading kernel1 data...\n",
      "0 / 6615\n",
      "1000 / 6615\n",
      "2000 / 6615\n",
      "3000 / 6615\n",
      "4000 / 6615\n",
      "5000 / 6615\n",
      "6000 / 6615\n",
      "loading kernel2 data...\n",
      "0 / 8640\n",
      "1000 / 8640\n",
      "2000 / 8640\n",
      "3000 / 8640\n",
      "4000 / 8640\n",
      "5000 / 8640\n",
      "6000 / 8640\n",
      "7000 / 8640\n",
      "8000 / 8640\n"
     ]
    }
   ],
   "source": [
    "    # calculate the number of input data\n",
    "    INPUT = open(\"/home/xilinx/jupyter_notebooks/R2plus1D_onelayer/input.dat\", \"r+\")\n",
    "    inputNum = 0\n",
    "    line = INPUT.readline()\n",
    "    while line:\n",
    "        inputNum = inputNum + 1\n",
    "        line = INPUT.readline()\n",
    "    \n",
    "    print(\"inputNum:\", inputNum)\n",
    "\n",
    "    # calculate the number of kernel1 weight\n",
    "    KERNEL1 = open(\"/home/xilinx/jupyter_notebooks/R2plus1D_onelayer/Conv3d1weight.dat\", \"r+\")\n",
    "    kernel1Num = 0\n",
    "    line = KERNEL1.readline()\n",
    "    while line:\n",
    "        kernel1Num = kernel1Num + 1\n",
    "        line = KERNEL1.readline()\n",
    "    \n",
    "    print(\"kernel1Num:\", kernel1Num)\n",
    "    \n",
    "    # calculate the number of kernel2 weight\n",
    "    KERNEL2 = open(\"/home/xilinx/jupyter_notebooks/R2plus1D_onelayer/Conv3d2weight.dat\", \"r+\")\n",
    "    kernel2Num = 0\n",
    "    line = KERNEL2.readline()\n",
    "    while line:\n",
    "        kernel2Num = kernel2Num + 1\n",
    "        line = KERNEL2.readline()\n",
    "    \n",
    "    print(\"kernel2Num:\", kernel2Num)\n",
    "    \n",
    "    # allocate memory \n",
    "    inputBuffer = allocate(shape=(inputNum,), dtype=np.single)\n",
    "    outputBuffer = allocate(shape=(200704,), dtype=np.single)\n",
    "    kernel1Buffer = allocate(shape=(kernel1Num,), dtype=np.single)\n",
    "    kernel2Buffer = allocate(shape=(kernel2Num,), dtype=np.single)\n",
    "\n",
    "    # load input data\n",
    "    print(\"loading input data...\")\n",
    "    INPUT.seek(0)\n",
    "    for i in range(inputNum):\n",
    "        line = INPUT.readline()\n",
    "        inputBuffer[i] = line\n",
    "        if (i % 1000 == 0):\n",
    "            print(i, \"/\", inputNum)\n",
    "    INPUT.close()\n",
    "    \n",
    "    # load kernel1 weight\n",
    "    print(\"loading kernel1 data...\")\n",
    "    KERNEL1.seek(0)\n",
    "    for i in range(kernel1Num):\n",
    "        line = KERNEL1.readline()\n",
    "        kernel1Buffer[i] = line\n",
    "        if (i % 1000 == 0):\n",
    "            print(i, \"/\", kernel1Num)\n",
    "    KERNEL1.close()\n",
    "    \n",
    "    # load kernel2 weight\n",
    "    print(\"loading kernel2 data...\")\n",
    "    KERNEL2.seek(0)\n",
    "    for i in range(kernel2Num):\n",
    "        line = KERNEL2.readline()\n",
    "        kernel2Buffer[i] = line\n",
    "        if (i % 1000 == 0):\n",
    "            print(i, \"/\", kernel2Num)\n",
    "    KERNEL2.close()"
   ]
  },
  {
   "cell_type": "code",
   "execution_count": 3,
   "id": "d927034d",
   "metadata": {},
   "outputs": [
    {
     "name": "stdout",
     "output_type": "stream",
     "text": [
      "IP start\n",
      "IP done\n",
      "time cost: 12.853078126907349\n"
     ]
    }
   ],
   "source": [
    "    # start IP\n",
    "    \n",
    "    # write input, output, kernel1 weight, kernel2 weight address\n",
    "    ip_r2plus1d.write(0x10, inputBuffer.device_address)\n",
    "    ip_r2plus1d.write(0x1C, outputBuffer.device_address)\n",
    "    ip_r2plus1d.write(0x28, kernel1Buffer.device_address)\n",
    "    ip_r2plus1d.write(0x34, kernel2Buffer.device_address)\n",
    "        \n",
    "    # ap_start\n",
    "    print(\"IP start\")\n",
    "    \n",
    "    t1 = time()\n",
    "    \n",
    "    ip_r2plus1d.write(0x00, 0x01)\n",
    "    # wait for the computation to finish\n",
    "    while (ip_r2plus1d.read(0x00) & 0x4) == 0x0:\n",
    "        continue\n",
    "        \n",
    "    t2 = time()\n",
    "        \n",
    "    print(\"IP done\")\n",
    "    print(\"time cost:\", t2-t1)"
   ]
  },
  {
   "cell_type": "code",
   "execution_count": 4,
   "id": "16ffb701",
   "metadata": {},
   "outputs": [
    {
     "name": "stderr",
     "output_type": "stream",
     "text": [
      "<ipython-input-4-56af143787e0>:16: RuntimeWarning: invalid value encountered in double_scalars\n",
      "  err = (outputBuffer[i] - line) / line\n",
      "<ipython-input-4-56af143787e0>:16: RuntimeWarning: divide by zero encountered in double_scalars\n",
      "  err = (outputBuffer[i] - line) / line\n"
     ]
    }
   ],
   "source": [
    "    OUTPUT = open(\"/home/xilinx/jupyter_notebooks/R2plus1D_onelayer/ReLU2output.dat\", \"r+\")\n",
    "    fout_0001 = open(\"/home/xilinx/jupyter_notebooks/R2plus1D_onelayer/out_0001.dat\", \"w\")\n",
    "    fout_001  = open(\"/home/xilinx/jupyter_notebooks/R2plus1D_onelayer/out_001.dat\", \"w\")\n",
    "    fout_01   = open(\"/home/xilinx/jupyter_notebooks/R2plus1D_onelayer/out_01.dat\", \"w\")\n",
    "\n",
    "    print(\"This file record the results with error >= 0.0001\", file=fout_0001)\n",
    "    print(\"====================\", file=fout_0001)\n",
    "    print(\"This file record the results with error >= 0.001\", file=fout_001)\n",
    "    print(\"====================\", file=fout_001)\n",
    "    print(\"This file record the results with error >= 0.01\", file=fout_01)\n",
    "    print(\"====================\", file=fout_01)\n",
    "    \n",
    "    OUTPUT.seek(0)\n",
    "    for i in range(200704):\n",
    "        line = np.single(OUTPUT.readline())\n",
    "        err = (outputBuffer[i] - line) / line\n",
    "        if (outputBuffer[i] != line):\n",
    "            if (err >= 0.0001):\n",
    "                print(\"[ERROR]: index\", i, \", result:\", outputBuffer[i], \", gold:\", line, \", error:\", err, file=fout_0001)\n",
    "                if (err >= 0.001):\n",
    "                    print(\"[ERROR]: index\", i, \", result:\", outputBuffer[i], \", gold:\", line, \", error:\", err, file=fout_001)\n",
    "                    if (err >= 0.01):\n",
    "                        print(\"[ERROR]: index\", i, \", result:\", outputBuffer[i], \", gold:\", line, \", error:\", err, file=fout_01)\n",
    "            \n",
    "    fout_0001.close()\n",
    "    fout_001.close()\n",
    "    fout_01.close()\n",
    "    OUTPUT.close()"
   ]
  },
  {
   "cell_type": "code",
   "execution_count": null,
   "id": "8d4fd3fc",
   "metadata": {},
   "outputs": [],
   "source": []
  },
  {
   "cell_type": "code",
   "execution_count": null,
   "id": "8a164e10",
   "metadata": {},
   "outputs": [],
   "source": []
  }
 ],
 "metadata": {
  "kernelspec": {
   "display_name": "Python 3",
   "language": "python",
   "name": "python3"
  },
  "language_info": {
   "codemirror_mode": {
    "name": "ipython",
    "version": 3
   },
   "file_extension": ".py",
   "mimetype": "text/x-python",
   "name": "python",
   "nbconvert_exporter": "python",
   "pygments_lexer": "ipython3",
   "version": "3.8.2"
  }
 },
 "nbformat": 4,
 "nbformat_minor": 5
}
