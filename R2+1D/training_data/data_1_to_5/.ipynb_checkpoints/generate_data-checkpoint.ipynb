{
 "cells": [
  {
   "cell_type": "code",
   "execution_count": 2,
   "id": "81d91fa0",
   "metadata": {},
   "outputs": [],
   "source": [
    "import cv2\n",
    "import time\n",
    "import os\n",
    "from IPython import display\n",
    "import random"
   ]
  },
  {
   "cell_type": "code",
   "execution_count": 2,
   "id": "7a6f954d",
   "metadata": {},
   "outputs": [],
   "source": [
    "def StartLiving():\n",
    "    try:\n",
    "        cap = cv2.VideoCapture(-1)\n",
    "        print(cap.get(cv2.CAP_PROP_FRAME_WIDTH))\n",
    "        print(cap.get(cv2.CAP_PROP_FRAME_HEIGHT))\n",
    "        print(cap.get(cv2.CAP_PROP_FPS))\n",
    "    except:\n",
    "        print(\"Cannot Open Device\")\n",
    "    try:\n",
    "        ret, frame = cap.read()\n",
    "        while (ret == True):\n",
    "            # some black magic\n",
    "            _, ret_array = cv2.imencode('.jpg', frame)\n",
    "            i = display.Image(data=ret_array)\n",
    "            display.display(i)\n",
    "            display.clear_output(wait=True)\n",
    "            \n",
    "            ret, frame = cap.read()\n",
    "            \n",
    "    except KeyboardInterrupt:\n",
    "        cap.release()\n",
    "        print(\"Released Video Resource\")\n",
    "    pass"
   ]
  },
  {
   "cell_type": "code",
   "execution_count": 10,
   "id": "e3b41949",
   "metadata": {},
   "outputs": [
    {
     "name": "stdout",
     "output_type": "stream",
     "text": [
      "[28, 18, 36, 16, 39, 15, 22, 6, 14, 33, 0, 37, 27, 20, 9, 29, 5, 1, 49, 45, 23, 38, 40, 8, 30, 24, 7, 4, 11, 3, 44, 13, 42, 48, 19, 31, 46, 43, 41, 32, 21, 35, 12, 17, 10, 47, 25, 34, 2, 26]\n"
     ]
    }
   ],
   "source": [
    "folderNames = list(range(50))\n",
    "random.shuffle(folderNames)\n",
    "print(folderNames)"
   ]
  },
  {
   "cell_type": "code",
   "execution_count": 3,
   "id": "b65e6e70",
   "metadata": {},
   "outputs": [
    {
     "name": "stdout",
     "output_type": "stream",
     "text": [
      "Released Video Resource\n"
     ]
    }
   ],
   "source": [
    "StartLiving()"
   ]
  },
  {
   "cell_type": "code",
   "execution_count": 2,
   "id": "d74acf79",
   "metadata": {},
   "outputs": [
    {
     "name": "stdout",
     "output_type": "stream",
     "text": [
      "width: 640.0\n",
      "height: 480.0\n",
      "FPS: 30.0\n"
     ]
    }
   ],
   "source": [
    "cap = cv2.VideoCapture(-1)\n",
    "print(\"width:\", cap.get(cv2.CAP_PROP_FRAME_WIDTH))\n",
    "print(\"height:\", cap.get(cv2.CAP_PROP_FRAME_HEIGHT))\n",
    "print(\"FPS:\", cap.get(cv2.CAP_PROP_FPS))"
   ]
  },
  {
   "cell_type": "code",
   "execution_count": 48,
   "id": "a20e026e",
   "metadata": {},
   "outputs": [
    {
     "name": "stdout",
     "output_type": "stream",
     "text": [
      "5.7582786083221436\n"
     ]
    }
   ],
   "source": [
    "idx = 7\n",
    "cmd = 'mkdir \"{}\"'.format(idx)\n",
    "os.system(cmd)\n",
    "for i in range(10):\n",
    "    reg, frame = cap.read()\n",
    "t1 = time.time()\n",
    "for i in range(50):\n",
    "    ret, frame = cap.read()\n",
    "    fileName = \"/home/xilinx/jupyter_notebooks/Generate_data/\" + str(idx) + \"/\" + str(i) + \".jpg\"\n",
    "    cv2.imwrite(fileName, frame)\n",
    "    time.sleep(0.1)\n",
    "t2 = time.time()\n",
    "print(t2-t1)"
   ]
  },
  {
   "cell_type": "code",
   "execution_count": 49,
   "id": "8639756e",
   "metadata": {},
   "outputs": [],
   "source": [
    "cap.release()"
   ]
  }
 ],
 "metadata": {
  "kernelspec": {
   "display_name": "Python 3",
   "language": "python",
   "name": "python3"
  },
  "language_info": {
   "codemirror_mode": {
    "name": "ipython",
    "version": 3
   },
   "file_extension": ".py",
   "mimetype": "text/x-python",
   "name": "python",
   "nbconvert_exporter": "python",
   "pygments_lexer": "ipython3",
   "version": "3.8.2"
  }
 },
 "nbformat": 4,
 "nbformat_minor": 5
}
