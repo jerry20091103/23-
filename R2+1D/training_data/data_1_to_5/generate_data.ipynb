{
 "cells": [
  {
   "cell_type": "code",
   "execution_count": 1,
   "id": "81d91fa0",
   "metadata": {},
   "outputs": [],
   "source": [
    "import cv2\n",
    "import time\n",
    "import os\n",
    "from IPython import display\n",
    "import random"
   ]
  },
  {
   "cell_type": "code",
   "execution_count": 2,
   "id": "7a6f954d",
   "metadata": {},
   "outputs": [],
   "source": [
    "def StartLiving():\n",
    "    try:\n",
    "        cap = cv2.VideoCapture(-1)\n",
    "        print(cap.get(cv2.CAP_PROP_FRAME_WIDTH))\n",
    "        print(cap.get(cv2.CAP_PROP_FRAME_HEIGHT))\n",
    "        print(cap.get(cv2.CAP_PROP_FPS))\n",
    "    except:\n",
    "        print(\"Cannot Open Device\")\n",
    "    try:\n",
    "        ret, frame = cap.read()\n",
    "        while (ret == True):\n",
    "            # some black magic\n",
    "            _, ret_array = cv2.imencode('.jpg', frame)\n",
    "            i = display.Image(data=ret_array)\n",
    "            display.display(i)\n",
    "            display.clear_output(wait=True)\n",
    "            \n",
    "            ret, frame = cap.read()\n",
    "            \n",
    "    except KeyboardInterrupt:\n",
    "        cap.release()\n",
    "        print(\"Released Video Resource\")\n",
    "    pass"
   ]
  },
  {
   "cell_type": "code",
   "execution_count": 3,
   "id": "e3b41949",
   "metadata": {},
   "outputs": [
    {
     "name": "stdout",
     "output_type": "stream",
     "text": [
      "[2, 8, 49, 15, 26, 30, 31, 23, 35, 36, 34, 14, 16, 25, 43, 19, 12, 39, 0, 44, 22, 5, 13, 3, 4, 21, 11, 9, 27, 28, 40, 47, 42, 32, 29, 45, 1, 37, 38, 6, 41, 18, 33, 48, 46, 7, 10, 24, 17, 20]\n"
     ]
    }
   ],
   "source": [
    "# folderNames = list(range(50))\n",
    "# random.shuffle(folderNames)\n",
    "# print(folderNames)\n",
    "folderNames = [2, 8, 49, 15, 26, 30, 31, 23, 35, 36, 34, 14, 16, 25, 43, 19, 12, 39, 0, 44, 22, 5, 13, 3, 4, 21, 11, 9, 27, 28, 40, 47, 42, 32, 29, 45, 1, 37, 38, 6, 41, 18, 33, 48, 46, 7, 10, 24, 17, 20]\n",
    "print(folderNames)"
   ]
  },
  {
   "cell_type": "code",
   "execution_count": 42,
   "id": "b65e6e70",
   "metadata": {},
   "outputs": [
    {
     "name": "stdout",
     "output_type": "stream",
     "text": [
      "Released Video Resource\n"
     ]
    }
   ],
   "source": [
    "StartLiving()"
   ]
  },
  {
   "cell_type": "code",
   "execution_count": 43,
   "id": "d74acf79",
   "metadata": {},
   "outputs": [
    {
     "name": "stdout",
     "output_type": "stream",
     "text": [
      "width: 640.0\n",
      "height: 480.0\n",
      "FPS: 30.0\n"
     ]
    }
   ],
   "source": [
    "cap = cv2.VideoCapture(-1)\n",
    "print(\"width:\", cap.get(cv2.CAP_PROP_FRAME_WIDTH))\n",
    "print(\"height:\", cap.get(cv2.CAP_PROP_FRAME_HEIGHT))\n",
    "print(\"FPS:\", cap.get(cv2.CAP_PROP_FPS))"
   ]
  },
  {
   "cell_type": "code",
   "execution_count": 48,
   "id": "a20e026e",
   "metadata": {},
   "outputs": [
    {
     "ename": "KeyboardInterrupt",
     "evalue": "",
     "output_type": "error",
     "traceback": [
      "\u001b[0;31m---------------------------------------------------------------------------\u001b[0m",
      "\u001b[0;31mKeyboardInterrupt\u001b[0m                         Traceback (most recent call last)",
      "\u001b[0;32m<ipython-input-48-14b19e5da556>\u001b[0m in \u001b[0;36m<module>\u001b[0;34m\u001b[0m\n\u001b[1;32m     17\u001b[0m     \u001b[0mfileName\u001b[0m \u001b[0;34m=\u001b[0m \u001b[0;34m\"/home/xilinx/jupyter_notebooks/Generate_data/\"\u001b[0m \u001b[0;34m+\u001b[0m \u001b[0mstr\u001b[0m\u001b[0;34m(\u001b[0m\u001b[0mfolder\u001b[0m\u001b[0;34m)\u001b[0m \u001b[0;34m+\u001b[0m \u001b[0;34m\"/\"\u001b[0m \u001b[0;34m+\u001b[0m \u001b[0mstr\u001b[0m\u001b[0;34m(\u001b[0m\u001b[0mi\u001b[0m\u001b[0;34m)\u001b[0m \u001b[0;34m+\u001b[0m \u001b[0;34m\".jpg\"\u001b[0m\u001b[0;34m\u001b[0m\u001b[0;34m\u001b[0m\u001b[0m\n\u001b[1;32m     18\u001b[0m     \u001b[0mcv2\u001b[0m\u001b[0;34m.\u001b[0m\u001b[0mimwrite\u001b[0m\u001b[0;34m(\u001b[0m\u001b[0mfileName\u001b[0m\u001b[0;34m,\u001b[0m \u001b[0mframe\u001b[0m\u001b[0;34m)\u001b[0m\u001b[0;34m\u001b[0m\u001b[0;34m\u001b[0m\u001b[0m\n\u001b[0;32m---> 19\u001b[0;31m     \u001b[0mtime\u001b[0m\u001b[0;34m.\u001b[0m\u001b[0msleep\u001b[0m\u001b[0;34m(\u001b[0m\u001b[0;36m0.05\u001b[0m\u001b[0;34m)\u001b[0m\u001b[0;34m\u001b[0m\u001b[0;34m\u001b[0m\u001b[0m\n\u001b[0m\u001b[1;32m     20\u001b[0m     \u001b[0mi\u001b[0m \u001b[0;34m=\u001b[0m \u001b[0mi\u001b[0m\u001b[0;34m+\u001b[0m\u001b[0;36m1\u001b[0m\u001b[0;34m\u001b[0m\u001b[0;34m\u001b[0m\u001b[0m\n\u001b[1;32m     21\u001b[0m \u001b[0mt2\u001b[0m \u001b[0;34m=\u001b[0m \u001b[0mtime\u001b[0m\u001b[0;34m.\u001b[0m\u001b[0mtime\u001b[0m\u001b[0;34m(\u001b[0m\u001b[0;34m)\u001b[0m\u001b[0;34m\u001b[0m\u001b[0;34m\u001b[0m\u001b[0m\n",
      "\u001b[0;31mKeyboardInterrupt\u001b[0m: "
     ]
    }
   ],
   "source": [
    "idx = 49\n",
    "folder = folderNames[idx]\n",
    "cmd = 'mkdir \"{}\"'.format(folder)\n",
    "os.system(cmd)\n",
    "# time.sleep(2)\n",
    "# for i in range(10):\n",
    "#     reg, frame = cap.read()\n",
    "t1 = time.time()\n",
    "# for i in range(50):\n",
    "#     ret, frame = cap.read()\n",
    "#     fileName = \"/home/xilinx/jupyter_notebooks/Generate_data/\" + str(folder) + \"/\" + str(i) + \".jpg\"\n",
    "#     cv2.imwrite(fileName, frame)\n",
    "#     time.sleep(0.05)\n",
    "i = 0\n",
    "while (True):\n",
    "    ret, frame = cap.read()\n",
    "    fileName = \"/home/xilinx/jupyter_notebooks/Generate_data/\" + str(folder) + \"/\" + str(i) + \".jpg\"\n",
    "    cv2.imwrite(fileName, frame)\n",
    "    time.sleep(0.05)\n",
    "    i = i+1\n",
    "t2 = time.time()\n",
    "print(t2-t1)"
   ]
  },
  {
   "cell_type": "code",
   "execution_count": 41,
   "id": "8639756e",
   "metadata": {},
   "outputs": [],
   "source": [
    "cap.release()"
   ]
  },
  {
   "cell_type": "code",
   "execution_count": null,
   "id": "4e8a7c82",
   "metadata": {},
   "outputs": [],
   "source": []
  },
  {
   "cell_type": "code",
   "execution_count": null,
   "id": "bf6e9ff3",
   "metadata": {},
   "outputs": [],
   "source": []
  }
 ],
 "metadata": {
  "kernelspec": {
   "display_name": "Python 3",
   "language": "python",
   "name": "python3"
  },
  "language_info": {
   "codemirror_mode": {
    "name": "ipython",
    "version": 3
   },
   "file_extension": ".py",
   "mimetype": "text/x-python",
   "name": "python",
   "nbconvert_exporter": "python",
   "pygments_lexer": "ipython3",
   "version": "3.8.2"
  }
 },
 "nbformat": 4,
 "nbformat_minor": 5
}
