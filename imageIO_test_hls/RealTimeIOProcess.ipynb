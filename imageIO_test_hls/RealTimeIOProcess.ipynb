{
 "cells": [
  {
   "cell_type": "code",
   "execution_count": 1,
   "id": "9bf64150",
   "metadata": {},
   "outputs": [
    {
     "data": {
      "application/javascript": [
       "\n",
       "try {\n",
       "require(['notebook/js/codecell'], function(codecell) {\n",
       "  codecell.CodeCell.options_default.highlight_modes[\n",
       "      'magic_text/x-csrc'] = {'reg':[/^%%microblaze/]};\n",
       "  Jupyter.notebook.events.one('kernel_ready.Kernel', function(){\n",
       "      Jupyter.notebook.get_cells().map(function(cell){\n",
       "          if (cell.cell_type == 'code'){ cell.auto_highlight(); } }) ;\n",
       "  });\n",
       "});\n",
       "} catch (e) {};\n"
      ]
     },
     "metadata": {},
     "output_type": "display_data"
    },
    {
     "data": {
      "application/javascript": [
       "\n",
       "try {\n",
       "require(['notebook/js/codecell'], function(codecell) {\n",
       "  codecell.CodeCell.options_default.highlight_modes[\n",
       "      'magic_text/x-csrc'] = {'reg':[/^%%pybind11/]};\n",
       "  Jupyter.notebook.events.one('kernel_ready.Kernel', function(){\n",
       "      Jupyter.notebook.get_cells().map(function(cell){\n",
       "          if (cell.cell_type == 'code'){ cell.auto_highlight(); } }) ;\n",
       "  });\n",
       "});\n",
       "} catch (e) {};\n"
      ]
     },
     "metadata": {},
     "output_type": "display_data"
    }
   ],
   "source": [
    "import numpy as np\n",
    "import cv2\n",
    "from IPython import display\n",
    "from pynq import Overlay\n",
    "from pynq import allocate"
   ]
  },
  {
   "cell_type": "code",
   "execution_count": 2,
   "id": "c6b24dab",
   "metadata": {},
   "outputs": [],
   "source": [
    "# load the IP\n",
    "ol = Overlay(\"./imageIO_test_v2.bit\")\n",
    "ip_imageIO = ol.imageIO_test_0"
   ]
  },
  {
   "cell_type": "code",
   "execution_count": 3,
   "id": "f6515b05",
   "metadata": {},
   "outputs": [],
   "source": [
    "# this function just cut the frame currently\n",
    "def convertResolution(inFrame, height, width):\n",
    "    outFrame = np.zeros((height, width, 3), dtype=np.uint8)\n",
    "    outFrame = inFrame[0:height, 0:width]\n",
    "    return outFrame"
   ]
  },
  {
   "cell_type": "code",
   "execution_count": 4,
   "id": "cb1359a5",
   "metadata": {},
   "outputs": [],
   "source": [
    "def Start():\n",
    "    print(\"start\")\n",
    "\n",
    "    # set video resource\n",
    "    cap = cv2.VideoCapture(-1)\n",
    "    \n",
    "    # allcate array\n",
    "    image_in_array = allocate(shape=(112, 112, 3), dtype=np.uint8)\n",
    "    image_out_array = allocate(shape=(112, 112, 3), dtype=np.uint8)\n",
    "\n",
    "    try:\n",
    "        ret, frame = cap.read()\n",
    "        \n",
    "        # read frame by frame\n",
    "        while (ret == True):\n",
    "            # reshape the frame into 112x112\n",
    "            fframe = convertResolution(frame, 112, 112)\n",
    "            \n",
    "            image_in_array[:] = np.array(fframe)\n",
    "            \n",
    "            # run the IP\n",
    "            # This IP sets the blue channel to 0\n",
    "            ip_imageIO.write(0x10, image_in_array.device_address)\n",
    "            ip_imageIO.write(0x1C, image_out_array.device_address)\n",
    "            ip_imageIO.write(0x00, 0x01)\n",
    "            while (ip_imageIO.read(0x00) & 0x4) == 0x0:\n",
    "                continue\n",
    "\n",
    "            fframe = image_out_array\n",
    "                \n",
    "            # some black magic\n",
    "            _, ret_array = cv2.imencode('.jpg', fframe)\n",
    "            i = display.Image(data=ret_array)\n",
    "            display.display(i)\n",
    "            display.clear_output(wait=True)\n",
    "            \n",
    "            # read next frame\n",
    "            ret, frame = cap.read()\n",
    "            \n",
    "    except KeyboardInterrupt:\n",
    "        cap.release()\n",
    "        print(\"Released Video Resource\")\n",
    "    pass"
   ]
  },
  {
   "cell_type": "code",
   "execution_count": null,
   "id": "a8d35560",
   "metadata": {},
   "outputs": [
    {
     "data": {
      "image/png": "[encoded data removed]",
      "text/plain": [
       "<IPython.core.display.Image object>"
      ]
     },
     "metadata": {},
     "output_type": "display_data"
    }
   ],
   "source": [
    "Start()"
   ]
  },
  {
   "cell_type": "code",
   "execution_count": null,
   "id": "974306f1",
   "metadata": {},
   "outputs": [],
   "source": []
  }
 ],
 "metadata": {
  "kernelspec": {
   "display_name": "Python 3",
   "language": "python",
   "name": "python3"
  },
  "language_info": {
   "codemirror_mode": {
    "name": "ipython",
    "version": 3
   },
   "file_extension": ".py",
   "mimetype": "text/x-python",
   "name": "python",
   "nbconvert_exporter": "python",
   "pygments_lexer": "ipython3",
   "version": "3.8.2"
  }
 },
 "nbformat": 4,
 "nbformat_minor": 5
}
